{
  "nbformat": 4,
  "nbformat_minor": 0,
  "metadata": {
    "colab": {
      "provenance": []
    },
    "kernelspec": {
      "name": "python3",
      "display_name": "Python 3"
    },
    "accelerator": "GPU"
  },
  "cells": [
    {
      "cell_type": "markdown",
      "metadata": {
        "id": "0D4v2vymw-ZX"
      },
      "source": [
        "**PRÁCTICA 2. RESOLUCIÓN DE PROBLEMAS DE OPTIMIZACIÓN MEDIANTE TENSORFLOW: ENTRENANDO UN PERCEPTRÓN SIMPLE**"
      ]
    },
    {
      "cell_type": "markdown",
      "metadata": {
        "id": "XiFN7VY4z0Do"
      },
      "source": [
        "**Conceptos necesarios de teoría**:\n",
        "Tensores en TF, GradientTape, SGD, MNIST"
      ]
    },
    {
      "cell_type": "markdown",
      "metadata": {
        "id": "Bl42uGwRb_SZ"
      },
      "source": [
        "En la práctica anterior, programamos el **Fordward Pass** y el algoritmo básico del aprendizaje profundo, el **Backpropagation**, empleando la librería científica **Numpy**. El código que desarrollamos no estaba optimizado ni ampliamente validado. Debido a estos dos aspectos, cuando se desean entrenar redes neuronales se hace uso de librerias de más alto nivel. En esta segunda sesión práctica vamos a trabajar con la librería **TensorFlow**. ¿Como importamos dicha librería en nuestro Notebook de Colab?"
      ]
    },
    {
      "cell_type": "code",
      "metadata": {
        "id": "wh9LoykybaSs",
        "colab": {
          "base_uri": "https://localhost:8080/"
        },
        "outputId": "36d9e9e7-2790-4a87-a452-93d8d738027b"
      },
      "source": [
        "import tensorflow as tf\n",
        "print(tf.__version__)"
      ],
      "execution_count": null,
      "outputs": [
        {
          "output_type": "stream",
          "name": "stdout",
          "text": [
            "2.9.2\n"
          ]
        }
      ]
    },
    {
      "cell_type": "markdown",
      "metadata": {
        "id": "m694rgqLU77l"
      },
      "source": [
        "En **octubre de 2019**, TensorFlow llevó a cabo un gran cambio en el \n",
        "funcionamiento de su librería con la **release 2.x de TF**. El principal cambio fue la introducción del concepto de **EagerExecution** que permite ejecutar el grafo a la vez que se crea. En TF1.x primero se creaba el grafo y posteriormente se ejecutaba. TensorFlow es un framework desarrollado y mantenido por **Google** que permite la ejecución de operaciones matemáticas, mediante diagramas de flujo de datos, de una forma optimizada en una CPU o GPU. Vamos a **listar los dispositivos locales** para comprobar que tenemos disponible la GPU que Google Colab nos ofrece:"
      ]
    },
    {
      "cell_type": "code",
      "metadata": {
        "id": "kMkvxESycCYA",
        "colab": {
          "base_uri": "https://localhost:8080/"
        },
        "outputId": "2a625f4c-7dac-42fc-be0e-4dce20803570"
      },
      "source": [
        "from tensorflow.python.client import device_lib\n",
        "\n",
        "def get_available_devices():\n",
        "  local_device_protos = device_lib.list_local_devices()\n",
        "  return [x.name for x in local_device_protos]\n",
        "\n",
        "print(get_available_devices())"
      ],
      "execution_count": null,
      "outputs": [
        {
          "output_type": "stream",
          "name": "stdout",
          "text": [
            "['/device:CPU:0', '/device:GPU:0']\n"
          ]
        }
      ]
    },
    {
      "cell_type": "markdown",
      "metadata": {
        "id": "NAdam6uPbapY"
      },
      "source": [
        "Tal y como hemos visto en el apartado teórico, TensorFlow tiene unas características un tanto peculiares:\n",
        "\n",
        "1.   TensorFlow utiliza **tensores** para almacenar los datos y realizar las operaciones.\n",
        "\n",
        "2.   En TensorFlow 2.x, se evalúan las operaciones realizadas directamente sin la necesidad de construir **grafos**.\n",
        "\n",
        "3.   Permite ejecutar el código implementado paralelamente o en **una o varias GPUs**, a elección del usuario.\n",
        "\n",
        "Sin más dilación vamos a ver como se define un tensor y como se pueden realizar operaciones básicas entre ellos. Ves ejecutando cada una de las celdas y asegúrate que comprendes la salida de todos los comandos *print*."
      ]
    },
    {
      "cell_type": "code",
      "metadata": {
        "id": "ynyaV6fJizJJ",
        "colab": {
          "base_uri": "https://localhost:8080/"
        },
        "outputId": "b0028b1c-3b3a-4cf2-9d0a-77171031c4fb"
      },
      "source": [
        "import numpy as np\n",
        "import tensorflow as tf\n",
        "\n",
        "# Creo un numpy array\n",
        "arr1d = np.array([1, 5.5, 3, 15, 20])\n",
        "\n",
        "# Del cual puedo ver tanto su contenido como ciertas propiedades\n",
        "print(arr1d)\n",
        "print (arr1d.ndim)\n",
        "print (arr1d.shape)\n",
        "print (arr1d.dtype)"
      ],
      "execution_count": null,
      "outputs": [
        {
          "output_type": "stream",
          "name": "stdout",
          "text": [
            "[ 1.   5.5  3.  15.  20. ]\n",
            "1\n",
            "(5,)\n",
            "float64\n"
          ]
        }
      ]
    },
    {
      "cell_type": "code",
      "metadata": {
        "id": "9sEvamEOjA3p",
        "colab": {
          "base_uri": "https://localhost:8080/"
        },
        "outputId": "6d1b71a7-5e0b-4e56-e3d3-518a48921390"
      },
      "source": [
        "# A continuación, podemos convertirlo en un tensor manteniendo las mismas propiedades que hemos visto anteriormente\n",
        "tensor1d = tf.convert_to_tensor(arr1d,tf.float64)\n",
        "print(tensor1d)"
      ],
      "execution_count": null,
      "outputs": [
        {
          "output_type": "stream",
          "name": "stdout",
          "text": [
            "tf.Tensor([ 1.   5.5  3.  15.  20. ], shape=(5,), dtype=float64)\n"
          ]
        }
      ]
    },
    {
      "cell_type": "code",
      "metadata": {
        "id": "_WW7GKE6jQ8q",
        "colab": {
          "base_uri": "https://localhost:8080/"
        },
        "outputId": "69a64882-d786-42f6-e15b-1cf3f245ad13"
      },
      "source": [
        "# Vamos a sumar dos tensores\n",
        "tensor1d_bis = tf.convert_to_tensor([9, 4.5, 7, 5, 0], tf.float64)\n",
        "my_sum = tf.add(tensor1d, tensor1d_bis)\n",
        "print(my_sum)"
      ],
      "execution_count": null,
      "outputs": [
        {
          "output_type": "stream",
          "name": "stdout",
          "text": [
            "tf.Tensor([10. 10. 10. 20. 20.], shape=(5,), dtype=float64)\n"
          ]
        }
      ]
    },
    {
      "cell_type": "code",
      "metadata": {
        "id": "9izA32SGjVSy",
        "colab": {
          "base_uri": "https://localhost:8080/"
        },
        "outputId": "be39b182-32f4-415f-c3ee-c7bed133e6f7"
      },
      "source": [
        "# Multipliquemoslos (elemento a elemento)\n",
        "my_mul = tf.multiply(tensor1d, tensor1d_bis) # Producto elemento a elemento\n",
        "print(my_mul)"
      ],
      "execution_count": null,
      "outputs": [
        {
          "output_type": "stream",
          "name": "stdout",
          "text": [
            "tf.Tensor([10. 10. 10. 20. 20.], shape=(5,), dtype=float64)\n"
          ]
        }
      ]
    },
    {
      "cell_type": "code",
      "metadata": {
        "id": "v4hsV_VfjgHS",
        "colab": {
          "base_uri": "https://localhost:8080/"
        },
        "outputId": "26236801-55c1-45a6-fd69-57fd5391bc2d"
      },
      "source": [
        "# Ahora un producto escalar de tensores 1D\n",
        "product1 = tf.tensordot(tensor1d, tensor1d_bis, 1) # OJO! No hace falta transponer\n",
        "print(product1)"
      ],
      "execution_count": null,
      "outputs": [
        {
          "output_type": "stream",
          "name": "stdout",
          "text": [
            "tf.Tensor(129.75, shape=(), dtype=float64)\n"
          ]
        }
      ]
    },
    {
      "cell_type": "code",
      "metadata": {
        "id": "E4c_NMZ2pQTB",
        "colab": {
          "base_uri": "https://localhost:8080/"
        },
        "outputId": "3490f003-572b-43f1-e51a-d0ea3a78692d"
      },
      "source": [
        "# Vamos con un producto vectorial de tensores 2D\n",
        "matrix1 = tf.constant([[3., 3.]])\n",
        "matrix2 = tf.constant([[2.], [2.]])\n",
        "product2 = tf.matmul(matrix1, matrix2) # Producto matricial\n",
        "print(matrix1)\n",
        "print(matrix2)\n",
        "print(product2)"
      ],
      "execution_count": null,
      "outputs": [
        {
          "output_type": "stream",
          "name": "stdout",
          "text": [
            "tf.Tensor([[3. 3.]], shape=(1, 2), dtype=float32)\n",
            "tf.Tensor(\n",
            "[[2.]\n",
            " [2.]], shape=(2, 1), dtype=float32)\n",
            "tf.Tensor([[12.]], shape=(1, 1), dtype=float32)\n"
          ]
        }
      ]
    },
    {
      "cell_type": "code",
      "metadata": {
        "id": "ceSlmno7jxmU",
        "colab": {
          "base_uri": "https://localhost:8080/"
        },
        "outputId": "725c3a50-28a2-45cc-d26f-bd5a2f52c5ea"
      },
      "source": [
        "matrix1 = tf.constant([[1., 1.]])\n",
        "matrix2 = tf.constant([[2.], [2.]])\n",
        "product2 = tf.matmul(matrix1, matrix2) # Producto matricial\n",
        "print(product2)"
      ],
      "execution_count": null,
      "outputs": [
        {
          "output_type": "stream",
          "name": "stdout",
          "text": [
            "Tensor(\"MatMul:0\", shape=(1, 1), dtype=float32)\n"
          ]
        }
      ]
    },
    {
      "cell_type": "markdown",
      "metadata": {
        "id": "Gh2i5weyaNIF"
      },
      "source": [
        "Como se ha comentado anteriormente, el código implementado se puede ejecutar en CPU, en GPU o en multiples GPUs. Mediante TF podemos listar los diferentes dispositivos (como ya hemos visto) y **ejecutar una sesión utilizando el/los dispositivo/s que creamos conveniente/s**:"
      ]
    },
    {
      "cell_type": "code",
      "metadata": {
        "id": "kaTwBn40adFY",
        "colab": {
          "base_uri": "https://localhost:8080/"
        },
        "outputId": "77d84efa-fd5c-4052-ff7d-dda2825ead48"
      },
      "source": [
        "with tf.device(\"/device:XLA_GPU:0\"):\n",
        "  matrix1 = tf.constant([[3., 3.]])\n",
        "  matrix2 = tf.constant([[2.],[2.]])\n",
        "  last_prod = tf.matmul(matrix1, matrix2)\n",
        "  print(last_prod)"
      ],
      "execution_count": null,
      "outputs": [
        {
          "output_type": "stream",
          "name": "stdout",
          "text": [
            "Tensor(\"MatMul:0\", shape=(1, 1), dtype=float32, device=/device:XLA_GPU:0)\n"
          ]
        }
      ]
    },
    {
      "cell_type": "markdown",
      "metadata": {
        "id": "zlgzGkeKRaC-"
      },
      "source": [
        "Una vez introducido lo que es un tensor y la forma de operar con ellos, vamos a dirigir ya el uso de TF al ámbito de las redes neuronales. Tal y como hemos visto en lo que llevamos de teoría como en la sesión práctica anterior, el **corazón de una red neuronal** es el algoritmo de **backpropagation** que tiene como objetivo optimizar los pesos **minimizando** la **función de pérdidas** o **función de coste**. ¿Y como podemos minimizar una determinada función empleando TF?  Pues vamos a verlo con un ejemplo, vamos a minimizar la función $f(x)=log(x)^2$: "
      ]
    },
    {
      "cell_type": "code",
      "source": [
        "import tensorflow as tf\n",
        "# Hallemos el mínimo de la función y = log(x)^2\n",
        "x = tf.Variable(initial_value=2.0, dtype=tf.float32) # Le damos un primer valor a nuestra x\n",
        "optimizer = tf.optimizers.SGD(learning_rate=0.5) # Instanciamos el optimizador pasandole como parámetro el learning rate\n",
        "\n",
        "# Minimización\n",
        "for i in range(10):\n",
        "    with tf.GradientTape() as tape: # Crea un objeto GradientTape para registrar operaciones\n",
        "      tape.watch(x) #Vigilamos las variables a optimizar\n",
        "      y = tf.square(tf.math.log(x)) # Define la función a minimizar\n",
        "      grads = tape.gradient(y, x) # Calcula el gradiente de la función de pérdida con respecto a x\n",
        "      optimizer.apply_gradients(grads_and_vars=[(grads, x)]) # Actualiza el valor de x\n",
        "      print(\"Iteración: {}, x = {}, y = {}\".format(i, x.numpy(), y.numpy())) # Imprime el valor actual de x"
      ],
      "metadata": {
        "colab": {
          "base_uri": "https://localhost:8080/"
        },
        "id": "BJT1wKYhw9Ra",
        "outputId": "90056920-6c54-4ecd-dd40-389bee13bf60"
      },
      "execution_count": null,
      "outputs": [
        {
          "output_type": "stream",
          "name": "stdout",
          "text": [
            "Iteración: 0, x = 1.6534264087677002, y = 0.4804530143737793\n",
            "Iteración: 1, x = 1.349300503730774, y = 0.25285786390304565\n",
            "Iteración: 2, x = 1.1272697448730469, y = 0.0897519513964653\n",
            "Iteración: 3, x = 1.0209965705871582, y = 0.014351693913340569\n",
            "Iteración: 4, x = 1.0006446838378906, y = 0.0004317743005231023\n",
            "Iteración: 5, x = 1.0000005960464478, y = 4.1534943306942296e-07\n",
            "Iteración: 6, x = 1.0, y = 3.552711781446699e-13\n",
            "Iteración: 7, x = 1.0, y = 0.0\n",
            "Iteración: 8, x = 1.0, y = 0.0\n",
            "Iteración: 9, x = 1.0, y = 0.0\n"
          ]
        }
      ]
    },
    {
      "cell_type": "code",
      "metadata": {
        "id": "kzGZs1QKWpdL",
        "colab": {
          "base_uri": "https://localhost:8080/",
          "height": 333
        },
        "outputId": "038f2562-0ee5-4519-98ff-cac551e3c8fc"
      },
      "source": [
        "import matplotlib.pyplot as plt\n",
        "# Representa (empleando numpy y matplotlib la función f(x) = log(x)^2 (ver np.log) y obten el mínimo (np.min) y la posición del mismo (np.argmin)\n",
        "# Para ello, crea un vector de 100 puntos equiespaciados en el rango [0,10] (ver np.linspace)\n",
        "\n",
        "# Crear vector de puntos equiespaciados \n",
        "x_values = np.linspace(0, 10, 100) #(X)\n",
        "# Crear f(x)\n",
        "fx = np.log(x_values)**2 #(X)\n",
        "# Mostrar por pantalla el mínimo (junto con su posición) y graficar la función\n",
        "my_min = np.min(fx) #(X)\n",
        "idx_min = x_values[np.argmin(fx)] #(X) \n",
        "print('Mínimo de la función y = ', my_min, ' en x= ', idx_min) \n",
        "plt.plot(x_values,fx)  \n"
      ],
      "execution_count": null,
      "outputs": [
        {
          "output_type": "stream",
          "text": [
            "Mínimo de la función y =  0.00010100925076817785  en x=  1.0101010101010102\n"
          ],
          "name": "stdout"
        },
        {
          "output_type": "stream",
          "text": [
            "/usr/local/lib/python3.6/dist-packages/ipykernel_launcher.py:4: RuntimeWarning: divide by zero encountered in log\n",
            "  after removing the cwd from sys.path.\n"
          ],
          "name": "stderr"
        },
        {
          "output_type": "execute_result",
          "data": {
            "text/plain": [
              "[<matplotlib.lines.Line2D at 0x7f341f2ccc88>]"
            ]
          },
          "metadata": {
            "tags": []
          },
          "execution_count": 18
        },
        {
          "output_type": "display_data",
          "data": {
            "image/png": "[encoded data removed]",
            "text/plain": [
              "<Figure size 432x288 with 1 Axes>"
            ]
          },
          "metadata": {
            "tags": [],
            "needs_background": "light"
          }
        }
      ]
    },
    {
      "cell_type": "markdown",
      "metadata": {
        "id": "WgY3hhgjov4a"
      },
      "source": [
        "A continuación responda a las siguientes cuestiones acerca del ejemplo anterior:\n",
        "\n",
        "- ¿Tienden a la misma solución ambas aproximaciones?¿Que significa esto? **Sol.** Sí ambas aproximaciones tienden al mismo valor mínimo. El SGD nos da una solución bastante certera del mínimo global de la función\n",
        "- ¿Que efecto tendría sobre el valor del mínimo disminuir el valor de lr? **Sol.** Decrementar el lr puede significar que la precisión del mínimo aumente a costa de mayor CC\n",
        "- Disminuye la tasa de aprendizaje a lr = 0.05, ¿Que observas?¿Que parámetro del código necesitas modificar para observar resultados coherentes? **Sol.** No le da tiempo a aprender lo suficiente para proporcionar una buena solución. Hay que aumentar el número de steps (épocas) a entrenar"
      ]
    },
    {
      "cell_type": "markdown",
      "metadata": {
        "id": "X-37Suj7_-tb"
      },
      "source": [
        "\n",
        "\n",
        "---\n",
        "\n"
      ]
    },
    {
      "cell_type": "markdown",
      "metadata": {
        "id": "6CCFoOHXwRcX"
      },
      "source": [
        "Para poner en práctica todo lo aprendido, vamos a resolver uno de aquellos problemas de optimización típicos de bachillerato mediante TensorFlow.\n",
        "\n",
        "**EJERCICIO 1.**  Xiaomi va a lanzar al mercado un nuevo smartphone y quiere diseñar el packaging del mismo. La idea es desarrollar un envase en forma de prisma de base cuadrada. El volumen del envase debe ser de 80 $cm^3$. El material para fabricar las caras laterales y la tapa del envase cuesta 1 céntimo de euro por $cm^2$. El material para fabricar la base debe ser más resistente y cuesta 1.5 céntimos de euro por $cm^2$.\n",
        "\n",
        "1.   Calcula las dimensiones del envase para que su coste sea el menor posible.\n",
        "2.   Calcula cuál es el coste mínimo, expresado en euros, que tendrá el envase."
      ]
    },
    {
      "cell_type": "markdown",
      "metadata": {
        "id": "sshrnGCay12w"
      },
      "source": [
        "Si recordaís con los datos del encunciado debemos plantear un sistema de ecuaciones. Una de las ecuaciones nos proporcionará una relación y la otra será la función objetivo a minimizar. VAMOS ALLÁ:\n",
        "\n",
        "- El volumen de un prisma es $Vp = x * y * h$, como sabemos que la base es cuadrada: $Vp = x*x*h = 80$.\n",
        "- Por otra parte tenemos que plantear otra ecuación que involucre la superficie del envase y la relacione con el coste: $C(x) = 1c€/cm^2 * (4x*h + x^2) + 1.5 c€/cm^2 * x^2$ = $4xh+x^2 + 1.5x^2$ = $4xh+2.5x^2$.\n",
        "\n",
        "Bien, ahora que ya tenemos las dos ecuaciones, de la primera de ellas (la relación) despejamos $x$ y la sustituimos en la función de coste (función objetivo o función a minimizar), resultando:\n",
        "\n",
        "$C(x) = \\dfrac{320}{x} + 2.5x^2$\n",
        "\n",
        "Esta es la función objetivo que debeís minimizar haciendo uso de la librería TensorFlow, tal y como hemos hecho antes con la función $y = log(x)^2$, para poder responder a las dos cuestiones planteadas en el enunciado."
      ]
    },
    {
      "cell_type": "code",
      "metadata": {
        "id": "iMiT7B533qTt",
        "colab": {
          "base_uri": "https://localhost:8080/"
        },
        "outputId": "ddb9383f-49f0-485b-ac53-d97ed3eb09d8"
      },
      "source": [
        "import tensorflow as tf\n",
        "import numpy as np\n",
        "\n",
        "# Hallemos el mínimo de la función C(x) = 320/x + 2.5x^2\n",
        "\n",
        "# Inicialización de la variable x (Busca documentación acerca de la función random_uniform de TF)\n",
        "x = tf.Variable(initial_value=tf.random.uniform([1], 0., 50.), name='x')\n",
        "\n",
        "# Instanciar el optimizador SGD pasándole como parámetro un valor de 0.005 de learning rate\n",
        "optimizer = tf.optimizers.SGD(learning_rate=0.005) #(X)\n",
        "\n",
        "old_solution = 0\n",
        "tolerance = 1e-4\n",
        "for step in range(500):\n",
        "    with tf.GradientTape() as tape:\n",
        "        tape.watch(x)\n",
        "        # Función de coste a minimizar (emplea tf.add, tf.divide, tf.multiply y tf.square)\n",
        "        c = tf.add(tf.divide(320,x), tf.multiply(2.5, tf.square(x)), name='c') #(X)\n",
        "        # Minimizamos la función objetivo\n",
        "        grads = tape.gradient(c, x) #(X)\n",
        "        # Actualizamos el valor de x\n",
        "        optimizer.apply_gradients(grads_and_vars=[(grads, x)]) #(X)\n",
        "        # Pedimos nueva solución de la variable x\n",
        "        solution = x.numpy()\n",
        "        # Comprobamos si se ha alcanzado la solución óptima\n",
        "        if np.abs(solution - old_solution) < tolerance:\n",
        "          print(\"\\n El envase óptimo tendrá dimensiones x = {} cm, h = {} cm dando lugar a un coste de C = {} €\".format(solution, 80/(solution*solution), c/100))\n",
        "          break\n",
        "        # Si no es así actualizo la solución vieja y muestro por pantalla 1 de cada 10 iteraciones\n",
        "        old_solution = solution\n",
        "        if step % 10 == 0:\n",
        "          print('[INFO]: Step ', step, \"---> x = \" + str(old_solution), \"- C = \" + str(c))"
      ],
      "execution_count": null,
      "outputs": [
        {
          "output_type": "stream",
          "name": "stdout",
          "text": [
            "[INFO]: Step  0 ---> x = [28.852762] - C = tf.Tensor([2199.8381], shape=(1,), dtype=float32)\n",
            "[INFO]: Step  10 ---> x = [22.42129] - C = tf.Tensor([1335.6227], shape=(1,), dtype=float32)\n",
            "[INFO]: Step  20 ---> x = [17.442766] - C = tf.Tensor([817.56506], shape=(1,), dtype=float32)\n",
            "[INFO]: Step  30 ---> x = [13.601442] - C = tf.Tensor([508.8839], shape=(1,), dtype=float32)\n",
            "[INFO]: Step  40 ---> x = [10.657626] - C = tf.Tensor([327.27103], shape=(1,), dtype=float32)\n",
            "[INFO]: Step  50 ---> x = [8.432727] - C = tf.Tensor([223.15181], shape=(1,), dtype=float32)\n",
            "[INFO]: Step  60 ---> x = [6.796144] - C = tf.Tensor([166.41464], shape=(1,), dtype=float32)\n",
            "[INFO]: Step  70 ---> x = [5.649359] - C = tf.Tensor([138.20338], shape=(1,), dtype=float32)\n",
            "[INFO]: Step  80 ---> x = [4.9040527] - C = tf.Tensor([126.05766], shape=(1,), dtype=float32)\n",
            "[INFO]: Step  90 ---> x = [4.4634805] - C = tf.Tensor([121.71457], shape=(1,), dtype=float32)\n",
            "[INFO]: Step  100 ---> x = [4.226148] - C = tf.Tensor([120.427246], shape=(1,), dtype=float32)\n",
            "[INFO]: Step  110 ---> x = [4.1070447] - C = tf.Tensor([120.09812], shape=(1,), dtype=float32)\n",
            "[INFO]: Step  120 ---> x = [4.0498476] - C = tf.Tensor([120.021545], shape=(1,), dtype=float32)\n",
            "[INFO]: Step  130 ---> x = [4.023025] - C = tf.Tensor([120.00462], shape=(1,), dtype=float32)\n",
            "[INFO]: Step  140 ---> x = [4.010594] - C = tf.Tensor([120.00098], shape=(1,), dtype=float32)\n",
            "[INFO]: Step  150 ---> x = [4.004866] - C = tf.Tensor([120.000206], shape=(1,), dtype=float32)\n",
            "[INFO]: Step  160 ---> x = [4.0022335] - C = tf.Tensor([120.000046], shape=(1,), dtype=float32)\n",
            "\n",
            " El envase óptimo tendrá dimensiones x = [4.0011973] cm, h = [4.997008] cm dando lugar a un coste de C = [1.2000002] €\n"
          ]
        }
      ]
    },
    {
      "cell_type": "markdown",
      "metadata": {
        "id": "sodMxtm7rzG-"
      },
      "source": [
        "A continuación responda a las siguientes cuestiones acerca del ejemplo anterior:\n",
        "\n",
        "- ¿Qué valor de tasa de aprendizaje y número de pasos has utilizado para el entrenamiento? Si has empleado los valores del ejercicio anterior observarás un comportamiento un tanto extraño en el proceso de aprendizaje. ¿Que significa esto? **Sol.** La tasa de aprendizaje del ejercicio anterior es muy alta para alcanzar el mínimo global en este problema.\n",
        "\n",
        "- Prueba a fijar una tasa de aprendizaje 100 veces más pequeña para dar pasos mucho más cortos en la búsqueda de la solución óptima, por consiguiente establece un número de pasos mucho mayor, por ejemplo 500. ¿Que ocurre ahora? Justifica la respuesta. **Sol.** Ahora el proceso de aprendizaje es correcto y se obtienen resultados con mucho sentido. Con esto se ejemplifica perfectamente la importancia del learning rate y el número de épocas. Su influencia se estudiará detenidamente en la siguiente práctica."
      ]
    },
    {
      "cell_type": "markdown",
      "metadata": {
        "id": "LIsT3RXzfelM"
      },
      "source": [
        "\n",
        "\n",
        "---"
      ]
    },
    {
      "cell_type": "markdown",
      "metadata": {
        "id": "plPMuRcwbD_p"
      },
      "source": [
        "Después de familiarizarnos con la librería TensorFlow es el momento de implementar la segunda red neuronal del curso. El objetivo de dicha red va a ser el de **identificar digitos del 0 al 9 escritos de forma manual**. El set de datos **MNIST** es un conjunto de  70000 imágenes de $28 \\times 28$ pixels que contienen números manuscritos junto con la etiqueta solución del número codificado (i.e. nuestro ground truth). \n",
        "\n",
        "![mnist](https://drive.google.com/uc?id=1uvFNAFTVb58xPoSt_3F_9DLs47ZIyPFm)\n",
        "\n",
        "Cabe destacar que, por convención, MNIST dispone de una división específica en conjuntos de entrenamiento, validación y test. Este dataset es el \"Hola Mundo\" del aprendizaje profundo y es de gran utilidad para validar nuevos métodos propuestos ya que hace de *benchmark* permitiendo establecer comparativas justas. Debido a su gran popularidad las principales librerias destinadas al aprendizaje profundo permiten cargarlo directamente en nuestro código. Así que sin más dilación vamos a cargar los datos y a visualizarlos:"
      ]
    },
    {
      "cell_type": "code",
      "metadata": {
        "id": "tm2jKyXgZ1Rs",
        "colab": {
          "base_uri": "https://localhost:8080/",
          "height": 863
        },
        "outputId": "7b53cea9-84db-4e49-93ab-fa34b4fa6fe2"
      },
      "source": [
        "# Imports necesarios\n",
        "import numpy as np\n",
        "import tensorflow as tf\n",
        "import matplotlib.pyplot as plt\n",
        "from sklearn.model_selection import train_test_split\n",
        "\n",
        "# Importamos el dataset MNIST y cargamos los datos\n",
        "(x_train, y_train), (x_test, y_test) = tf.keras.datasets.mnist.load_data()\n",
        "x_train, x_val, y_train, y_val = train_test_split(x_train, y_train, test_size=0.15)\n",
        "\n",
        "# Comprobar el tamaño del dataset\n",
        "print(\"El conjunto de entrenamiento tiene dimensiones: \", x_train.shape)\n",
        "print(\"El conjunto de validación tiene dimensiones: \",x_val.shape)\n",
        "print(\"El conjunto de test tiene dimensiones: \",x_test.shape)\n",
        "\n",
        "# Método para visualizar los datos de entrenamiento\n",
        "def display_digit(num):\n",
        "  # Seleccionar la imagen num de imagenes de train\n",
        "  image = x_train[num,:,:] #(X)\n",
        "  # Seleccionar el target num de y_train \n",
        "  label = y_train[num] #(X)\n",
        "  # Mostrar\n",
        "  plt.title('Example: %d  Label: %d' % (num, label))\n",
        "  plt.imshow(image, cmap=plt.get_cmap('gray_r'))\n",
        "  plt.show()\n",
        "\n",
        "# Mostramos algunos ejemplos\n",
        "display_digit(np.random.randint(0, x_train.shape[0]))\n",
        "display_digit(np.random.randint(0, x_train.shape[0]))\n",
        "display_digit(np.random.randint(0, x_train.shape[0]))\n",
        "\n",
        "# Ejecuta el código varias veces y comprueba la variabilidad existente en los datos"
      ],
      "execution_count": null,
      "outputs": [
        {
          "output_type": "stream",
          "name": "stdout",
          "text": [
            "El conjunto de entrenamiento tiene dimensiones:  (51000, 28, 28)\n",
            "El conjunto de validación tiene dimensiones:  (9000, 28, 28)\n",
            "El conjunto de test tiene dimensiones:  (10000, 28, 28)\n"
          ]
        },
        {
          "output_type": "display_data",
          "data": {
            "text/plain": [
              "<Figure size 432x288 with 1 Axes>"
            ],
            "image/png": "[encoded data removed]"
          },
          "metadata": {
            "needs_background": "light"
          }
        },
        {
          "output_type": "display_data",
          "data": {
            "text/plain": [
              "<Figure size 432x288 with 1 Axes>"
            ],
            "image/png": "[encoded data removed]"
          },
          "metadata": {
            "needs_background": "light"
          }
        },
        {
          "output_type": "display_data",
          "data": {
            "text/plain": [
              "<Figure size 432x288 with 1 Axes>"
            ],
            "image/png": "[encoded data removed]"
          },
          "metadata": {
            "needs_background": "light"
          }
        }
      ]
    },
    {
      "cell_type": "markdown",
      "metadata": {
        "id": "uwKVmorKmdsP"
      },
      "source": [
        "**EJERCICIO 2.** Una vez visualizadas ciertas muestras de nuestro conjunto de datos,  vamos a entrenar un **perceptrón simple** (como el de la primera sesión). Recordad que en el perceptrón simple las entradas se ponderan por ciertos pesos y se suman en cada una de las neuronas de salida. Posteriormente emplearemos la función **Softmax** que hemos explicado en la sesión teórica, calculando las predicciones como $\\hat{Y}=softmax(X∗W+B)$ y minimizando la función de entropía cruzada o **cross-entropy** siguiendo la formula: \n",
        "\n",
        ">>>>>>>>$Coste = - \\displaystyle\\sum_j y_j log(p_j)$\n",
        "\n",
        "donde $y_j$ es el *ground truth* para la clase $j$ y $p_j$ el valor de probabilidad asignado a dicha clase a la salida."
      ]
    },
    {
      "cell_type": "code",
      "source": [
        "# Hiper-parámetros de nuestra red\n",
        "lr = 0.01\n",
        "n_epochs = 100\n",
        "batch_size = 128\n",
        "\n",
        "#Normalizamos los datos\n",
        "x_train = x_train / 255.\n",
        "x_test = x_test / 255.\n",
        "x_val= x_val / 255.\n",
        "\n",
        "#Convertimos las imágenes a vectores, dado que aún no hemos visto cómo podemos implementar un modelo que trabaje con imágenes\n",
        "x_train = tf.reshape(x_train, shape=(51000, -1)) # Nuestros datos ya están en formato [N_instancias, variables] (60000 instancias, 784 (28+28) pixels).\n",
        "x_val = tf.reshape(x_val, shape=(9000, -1)) # Nuestros datos ya están en formato [N_instancias, variables] (9000 instancias, 784 (28+28) pixels).\n",
        "x_test = tf.reshape(x_test, shape=(10000, -1)) # Nuestros datos ya están en formato [N_instancias, variables] (10000 instancias, 784 (28+28) pixels).\n",
        "\n",
        "# Convertimos las etiquetas a one-hot y a float 64 ya que todos los datos deben estar en el mismo formato\n",
        "y_train = tf.one_hot(y_train, depth=10) #(X)\n",
        "y_val = tf.one_hot(y_val, depth=10) #(X)\n",
        "y_test = tf.one_hot(y_test, depth=10) #(X)\n",
        "\n",
        "y_train = tf.cast(y_train, 'float64') #(X)\n",
        "y_val= tf.cast(y_val, 'float64') #(X)\n",
        "y_test = tf.cast(y_test, 'float64') #(X)\n",
        "\n",
        "#Nos creamos ahora el iterador para que recorra nuestro dataset. Podéis leer más sobre tf.data aquí: https://www.tensorflow.org/guide/data\n",
        "train_ds = tf.data.Dataset.from_tensor_slices((x_train, y_train))\n",
        "train_ds = train_ds.shuffle(10000).batch(batch_size)\n",
        "\n",
        "\n",
        "#Calculamos las iteraciones por época\n",
        "total_batch = x_train.shape[0] // batch_size\n",
        "\n",
        "#Creamos e inicializamos con ceros las variables W y b\n",
        "W = tf.zeros([784, 10], tf.double) #(X)\n",
        "b = tf.zeros([10], tf.double) #(X)\n",
        "\n",
        "# para almacenar el histórico de costes\n",
        "acc_epoch_tr = []\n",
        "acc_epoch_val = []\n",
        "loss_epoch_tr = []\n",
        "loss_epoch_val = []\n",
        "\n",
        "# 6. Entrenamiento de nuestra red\n",
        "for epoch in range(n_epochs):\n",
        "    avg_loss = 0.\n",
        "    avg_acc = 0.\n",
        "    \n",
        "    for batch_xs, batch_ys in train_ds:\n",
        "        # Empezamos con la optimización\n",
        "        # haremos uso de tf.GradientTape, que lleva un control de las variables\n",
        "        # para poder calcular sus gradientes\n",
        "        with tf.GradientTape() as tape:\n",
        "            # le indicamos que \"vigile\" las variables a optimizar\n",
        "            tape.watch(W) #(X)\n",
        "            tape.watch(b) #(X)\n",
        "            \n",
        "            # ejecutamos el modelo\n",
        "            pred = tf.nn.softmax(tf.matmul(batch_xs, W) + b) #(X)\n",
        "            # calculamos el accuracy (precisión)\n",
        "            correct_prediction = tf.equal(tf.argmax(pred, 1), tf.argmax(batch_ys, 1))\n",
        "            acc = tf.reduce_mean(tf.cast(correct_prediction, tf.float32))\n",
        "\n",
        "            # Ahora, definimos nuestra función de pérdidas: esta vez, la cros-entropía\n",
        "            cost = tf.reduce_mean(-tf.reduce_sum(batch_ys*tf.math.log(pred), axis=1)) #(X)\n",
        "            # Calculamos los gradientes (gradient descent)\n",
        "            grad_W, grad_b = tape.gradient(cost, [W, b]) #(X)\n",
        "\n",
        "            # Definimos las operaciones para actualizar los pesos con los gradientes calculados\n",
        "            # y el learning rate\n",
        "            W = W - lr * grad_W #(X)\n",
        "            b = b - lr * grad_b #(X)\n",
        "\n",
        "        # Calculamos las perdidas y el accuracy teniendo en cuenta los batches que hay\n",
        "        avg_loss += cost / total_batch\n",
        "        avg_acc += acc / total_batch\n",
        "        \n",
        "    # Validamos el modelo en cada época\n",
        "    pred = tf.nn.softmax(tf.matmul(x_val, W) + b) #(X)\n",
        "    # Calculamos el accuracy (precisión)\n",
        "    correct_prediction = tf.equal(tf.argmax(pred, 1), tf.argmax(y_val, 1))\n",
        "    acc_val = tf.reduce_mean(tf.cast(correct_prediction, tf.float32))\n",
        "    # Ahora, definimos nuestra función de pérdidas: esta vez, la cros-entropía\n",
        "    loss_val = tf.reduce_mean(-tf.reduce_sum(y_val*tf.math.log(pred), axis=1))  #(X)\n",
        "    # guardamos nuestro coste en el histórico\n",
        "    loss_epoch_tr.append(avg_loss) #(X)\n",
        "    acc_epoch_tr.append(avg_acc) #(X)\n",
        "    loss_epoch_val.append(loss_val) #(X)\n",
        "    acc_epoch_val.append(acc_val) #(X)\n",
        "\n",
        "    # imprimimos las iteraciones\n",
        "    print(\"[INFO]: Época {} ---> Acc_train = {} - Loss_train = {} - Acc_val = {} - Loss_val = {}\".format(epoch, avg_acc, avg_loss, acc_val, loss_val))\n",
        "\n",
        "\n",
        "print(\"Entrenamiento finalizado!!\")\n",
        "\n",
        "\n",
        "# Comprobamos lo que ha aprendido nuestra red testeando el modelo\n",
        "pred = tf.nn.softmax(tf.matmul(x_test, W) + b) #(X)\n",
        " \n",
        "# calculamos el accuracy (precisión)\n",
        "correct_prediction = tf.equal(tf.argmax(pred, 1), tf.argmax(y_test, 1))\n",
        "accuracy = tf.reduce_mean(tf.cast(correct_prediction, tf.float32))\n",
        "print(\"Accuracy en test:\", accuracy.numpy())\n",
        "\n",
        "# Gráficar losses por época\n",
        "plt.plot(np.arange(0, n_epochs), loss_epoch_tr)\n",
        "plt.plot(np.arange(0, n_epochs), loss_epoch_val)\n",
        "plt.legend(['train', 'val'], loc='upper left')\n",
        "plt.title('Training Loss')\n",
        "plt.xlabel('Epoch #')\n",
        "plt.ylabel('Loss')\n",
        "  #¿Que se puede observar de las gráficas?¿Según hemos visto en la teoría, se aprecia overfitting?"
      ],
      "metadata": {
        "colab": {
          "base_uri": "https://localhost:8080/",
          "height": 1000
        },
        "id": "lhiKMTSGWsrA",
        "outputId": "c0034651-0219-4010-89b9-def869cfbff6"
      },
      "execution_count": null,
      "outputs": [
        {
          "output_type": "stream",
          "name": "stdout",
          "text": [
            "[INFO]: Época 0 ---> Acc_train = 0.7812139987945557 - Loss_train = 1.321060724964009 - Acc_val = 0.8304444551467896 - Loss_val = 0.8864030942749933\n",
            "[INFO]: Época 1 ---> Acc_train = 0.8478168845176697 - Loss_train = 0.753756932452287 - Acc_val = 0.8557778000831604 - Loss_val = 0.6677553911267565\n",
            "[INFO]: Época 2 ---> Acc_train = 0.8632341027259827 - Loss_train = 0.6145510505918075 - Acc_val = 0.8651111125946045 - Loss_val = 0.5780440256739517\n",
            "[INFO]: Época 3 ---> Acc_train = 0.8701664805412292 - Loss_train = 0.5476960881097321 - Acc_val = 0.8735555410385132 - Loss_val = 0.5274405392130587\n",
            "[INFO]: Época 4 ---> Acc_train = 0.8766160011291504 - Loss_train = 0.5067892374607672 - Acc_val = 0.8797777891159058 - Loss_val = 0.4944451157726773\n",
            "[INFO]: Época 5 ---> Acc_train = 0.8809179663658142 - Loss_train = 0.47871757458427655 - Acc_val = 0.8837777972221375 - Loss_val = 0.470773035350938\n",
            "[INFO]: Época 6 ---> Acc_train = 0.8839073181152344 - Loss_train = 0.45822803579021953 - Acc_val = 0.8875555396080017 - Loss_val = 0.45275769759516016\n",
            "[INFO]: Época 7 ---> Acc_train = 0.8866864442825317 - Loss_train = 0.44197746459601756 - Acc_val = 0.8893333077430725 - Loss_val = 0.4385758168586696\n",
            "[INFO]: Época 8 ---> Acc_train = 0.8891793489456177 - Loss_train = 0.4289368694935193 - Acc_val = 0.8920000195503235 - Loss_val = 0.4269778471423964\n",
            "[INFO]: Época 9 ---> Acc_train = 0.8910102844238281 - Loss_train = 0.4182399190978548 - Acc_val = 0.8943333625793457 - Loss_val = 0.4172707367563103\n",
            "[INFO]: Época 10 ---> Acc_train = 0.8927767276763916 - Loss_train = 0.40889210369868517 - Acc_val = 0.8949999809265137 - Loss_val = 0.40897479293881356\n",
            "[INFO]: Época 11 ---> Acc_train = 0.8942434191703796 - Loss_train = 0.40122897443290556 - Acc_val = 0.8968889117240906 - Loss_val = 0.40182597642054063\n",
            "[INFO]: Época 12 ---> Acc_train = 0.8961946368217468 - Loss_train = 0.39443314205109686 - Acc_val = 0.8975555300712585 - Loss_val = 0.39556339869673085\n",
            "[INFO]: Época 13 ---> Acc_train = 0.8970358967781067 - Loss_train = 0.38820358336980715 - Acc_val = 0.8989999890327454 - Loss_val = 0.3899792583381502\n",
            "[INFO]: Época 14 ---> Acc_train = 0.8981246948242188 - Loss_train = 0.3827097907388064 - Acc_val = 0.8996666669845581 - Loss_val = 0.3850720565056265\n",
            "[INFO]: Época 15 ---> Acc_train = 0.8989461660385132 - Loss_train = 0.37834608498198075 - Acc_val = 0.9004444479942322 - Loss_val = 0.3807363341973691\n",
            "[INFO]: Época 16 ---> Acc_train = 0.9004831910133362 - Loss_train = 0.37351596069746934 - Acc_val = 0.9013333320617676 - Loss_val = 0.37664011994939145\n",
            "[INFO]: Época 17 ---> Acc_train = 0.9012314081192017 - Loss_train = 0.3694804041296052 - Acc_val = 0.901888906955719 - Loss_val = 0.37296573844861336\n",
            "[INFO]: Época 18 ---> Acc_train = 0.9015681743621826 - Loss_train = 0.36572608000432794 - Acc_val = 0.9026666879653931 - Loss_val = 0.36958446979180715\n",
            "[INFO]: Época 19 ---> Acc_train = 0.9031244516372681 - Loss_train = 0.36211275193098424 - Acc_val = 0.9027777910232544 - Loss_val = 0.3665054155142368\n",
            "[INFO]: Época 20 ---> Acc_train = 0.9032562375068665 - Loss_train = 0.3590895218251534 - Acc_val = 0.9038888812065125 - Loss_val = 0.36363008155917415\n",
            "[INFO]: Época 21 ---> Acc_train = 0.904187023639679 - Loss_train = 0.3562896101787836 - Acc_val = 0.9042222499847412 - Loss_val = 0.36093129941208013\n",
            "[INFO]: Época 22 ---> Acc_train = 0.9044477343559265 - Loss_train = 0.35370148438542837 - Acc_val = 0.9053333401679993 - Loss_val = 0.3584847339983496\n",
            "[INFO]: Época 23 ---> Acc_train = 0.9050900340080261 - Loss_train = 0.35085977023163056 - Acc_val = 0.9051111340522766 - Loss_val = 0.35627790586002134\n",
            "[INFO]: Época 24 ---> Acc_train = 0.905819296836853 - Loss_train = 0.34869900794044917 - Acc_val = 0.9057777523994446 - Loss_val = 0.35409660498042406\n",
            "[INFO]: Época 25 ---> Acc_train = 0.9062033295631409 - Loss_train = 0.34633070850793723 - Acc_val = 0.9058889150619507 - Loss_val = 0.352024169687312\n",
            "[INFO]: Época 26 ---> Acc_train = 0.9066323637962341 - Loss_train = 0.34420639561837224 - Acc_val = 0.9064444303512573 - Loss_val = 0.3501132351260036\n",
            "[INFO]: Época 27 ---> Acc_train = 0.9074060916900635 - Loss_train = 0.34208428146245895 - Acc_val = 0.9065555334091187 - Loss_val = 0.348330813890478\n",
            "[INFO]: Época 28 ---> Acc_train = 0.9077374935150146 - Loss_train = 0.34045986129573225 - Acc_val = 0.9071111083030701 - Loss_val = 0.3465399202965081\n",
            "[INFO]: Época 29 ---> Acc_train = 0.9085643291473389 - Loss_train = 0.3384793736891 - Acc_val = 0.9071111083030701 - Loss_val = 0.3449934616947718\n",
            "[INFO]: Época 30 ---> Acc_train = 0.9085922241210938 - Loss_train = 0.33681425669320003 - Acc_val = 0.9079999923706055 - Loss_val = 0.3434729670615034\n",
            "[INFO]: Época 31 ---> Acc_train = 0.909372091293335 - Loss_train = 0.3351685494504388 - Acc_val = 0.9083333611488342 - Loss_val = 0.34195892796114186\n",
            "[INFO]: Época 32 ---> Acc_train = 0.9093720316886902 - Loss_train = 0.3337324141147539 - Acc_val = 0.9094444513320923 - Loss_val = 0.34069716431169395\n",
            "[INFO]: Época 33 ---> Acc_train = 0.909972071647644 - Loss_train = 0.3319965945998195 - Acc_val = 0.9091110825538635 - Loss_val = 0.33944628075168887\n",
            "[INFO]: Época 34 ---> Acc_train = 0.9103143811225891 - Loss_train = 0.33066537404229246 - Acc_val = 0.9098888635635376 - Loss_val = 0.3380608337704839\n",
            "[INFO]: Época 35 ---> Acc_train = 0.9108582735061646 - Loss_train = 0.3294670064981169 - Acc_val = 0.910111129283905 - Loss_val = 0.33684679937442913\n",
            "[INFO]: Época 36 ---> Acc_train = 0.9113178849220276 - Loss_train = 0.32776365902056914 - Acc_val = 0.9105555415153503 - Loss_val = 0.3356710495372387\n",
            "[INFO]: Época 37 ---> Acc_train = 0.9113548398017883 - Loss_train = 0.3267221589337194 - Acc_val = 0.9103333353996277 - Loss_val = 0.33458817802507396\n",
            "[INFO]: Época 38 ---> Acc_train = 0.9123026132583618 - Loss_train = 0.32556654013553915 - Acc_val = 0.910444438457489 - Loss_val = 0.3335605938955644\n",
            "[INFO]: Época 39 ---> Acc_train = 0.9122995734214783 - Loss_train = 0.3240709784360105 - Acc_val = 0.9108889102935791 - Loss_val = 0.33256912874817124\n",
            "[INFO]: Época 40 ---> Acc_train = 0.9127369523048401 - Loss_train = 0.32298674079581685 - Acc_val = 0.9106666445732117 - Loss_val = 0.3315655989797704\n",
            "[INFO]: Época 41 ---> Acc_train = 0.9128715991973877 - Loss_train = 0.322082421216723 - Acc_val = 0.9113333225250244 - Loss_val = 0.3306605274612475\n",
            "[INFO]: Época 42 ---> Acc_train = 0.9132252335548401 - Loss_train = 0.32120786664652107 - Acc_val = 0.9115555286407471 - Loss_val = 0.3297252820861571\n",
            "[INFO]: Época 43 ---> Acc_train = 0.9136428833007812 - Loss_train = 0.3200518637522407 - Acc_val = 0.9117777943611145 - Loss_val = 0.32890385880403733\n",
            "[INFO]: Época 44 ---> Acc_train = 0.9138927459716797 - Loss_train = 0.31896051568415484 - Acc_val = 0.9118888974189758 - Loss_val = 0.32802914299169217\n",
            "[INFO]: Época 45 ---> Acc_train = 0.9140077233314514 - Loss_train = 0.3179445164481157 - Acc_val = 0.9117777943611145 - Loss_val = 0.3272185325224688\n",
            "[INFO]: Época 46 ---> Acc_train = 0.9142373204231262 - Loss_train = 0.31696370168332094 - Acc_val = 0.9121111035346985 - Loss_val = 0.3264500702295055\n",
            "[INFO]: Época 47 ---> Acc_train = 0.9148262739181519 - Loss_train = 0.3161061940833083 - Acc_val = 0.9124444723129272 - Loss_val = 0.32569847384126\n",
            "[INFO]: Época 48 ---> Acc_train = 0.9147871732711792 - Loss_train = 0.3153709275806701 - Acc_val = 0.9125555753707886 - Loss_val = 0.32493465713177866\n",
            "[INFO]: Época 49 ---> Acc_train = 0.9149385094642639 - Loss_train = 0.3143814149005792 - Acc_val = 0.9126666784286499 - Loss_val = 0.32424309956375785\n",
            "[INFO]: Época 50 ---> Acc_train = 0.915255606174469 - Loss_train = 0.31349880511018685 - Acc_val = 0.9132221937179565 - Loss_val = 0.32360052152219715\n",
            "[INFO]: Época 51 ---> Acc_train = 0.9155187606811523 - Loss_train = 0.3130366614058749 - Acc_val = 0.9128888845443726 - Loss_val = 0.32302923786649357\n",
            "[INFO]: Época 52 ---> Acc_train = 0.9158723950386047 - Loss_train = 0.3119389670916893 - Acc_val = 0.9124444723129272 - Loss_val = 0.32238122836589317\n",
            "[INFO]: Época 53 ---> Acc_train = 0.915900468826294 - Loss_train = 0.31123800588895245 - Acc_val = 0.9136666655540466 - Loss_val = 0.3216973643778379\n",
            "[INFO]: Época 54 ---> Acc_train = 0.9158945679664612 - Loss_train = 0.31059702767459374 - Acc_val = 0.9136666655540466 - Loss_val = 0.32104458541264064\n",
            "[INFO]: Época 55 ---> Acc_train = 0.9160454273223877 - Loss_train = 0.3099250388334799 - Acc_val = 0.913777768611908 - Loss_val = 0.32040601514515\n",
            "[INFO]: Época 56 ---> Acc_train = 0.9162788987159729 - Loss_train = 0.3090815465460905 - Acc_val = 0.913777768611908 - Loss_val = 0.31998117009746657\n",
            "[INFO]: Época 57 ---> Acc_train = 0.9163155555725098 - Loss_train = 0.3086919827590763 - Acc_val = 0.914222240447998 - Loss_val = 0.3193363005081331\n",
            "[INFO]: Época 58 ---> Acc_train = 0.9168400168418884 - Loss_train = 0.30778539371284386 - Acc_val = 0.914222240447998 - Loss_val = 0.3187678994205175\n",
            "[INFO]: Época 59 ---> Acc_train = 0.917002260684967 - Loss_train = 0.30695506131921635 - Acc_val = 0.9131110906600952 - Loss_val = 0.3184051095794257\n",
            "[INFO]: Época 60 ---> Acc_train = 0.916965663433075 - Loss_train = 0.30655337594661997 - Acc_val = 0.9143333435058594 - Loss_val = 0.3177826726431375\n",
            "[INFO]: Época 61 ---> Acc_train = 0.9172043800354004 - Loss_train = 0.30574294596994084 - Acc_val = 0.913777768611908 - Loss_val = 0.3172818225513336\n",
            "[INFO]: Época 62 ---> Acc_train = 0.9171591401100159 - Loss_train = 0.30560175743729356 - Acc_val = 0.914222240447998 - Loss_val = 0.31680029403255106\n",
            "[INFO]: Época 63 ---> Acc_train = 0.9175603985786438 - Loss_train = 0.30477388313428966 - Acc_val = 0.9138888716697693 - Loss_val = 0.31636483906685875\n",
            "[INFO]: Época 64 ---> Acc_train = 0.9175938963890076 - Loss_train = 0.30418311893757816 - Acc_val = 0.9144444465637207 - Loss_val = 0.3158816133754095\n",
            "[INFO]: Época 65 ---> Acc_train = 0.9177589416503906 - Loss_train = 0.303855330997321 - Acc_val = 0.914555549621582 - Loss_val = 0.315382202980208\n",
            "[INFO]: Época 66 ---> Acc_train = 0.9182612895965576 - Loss_train = 0.3029899415398918 - Acc_val = 0.9139999747276306 - Loss_val = 0.3149819189913914\n",
            "[INFO]: Época 67 ---> Acc_train = 0.918466329574585 - Loss_train = 0.3025142296439494 - Acc_val = 0.9143333435058594 - Loss_val = 0.3146163230853023\n",
            "[INFO]: Época 68 ---> Acc_train = 0.9185028076171875 - Loss_train = 0.30207082433915833 - Acc_val = 0.914222240447998 - Loss_val = 0.3142093833223231\n",
            "[INFO]: Época 69 ---> Acc_train = 0.9185835719108582 - Loss_train = 0.30167371338890364 - Acc_val = 0.9152222275733948 - Loss_val = 0.3137375866789097\n",
            "[INFO]: Época 70 ---> Acc_train = 0.9192293286323547 - Loss_train = 0.3008662636163398 - Acc_val = 0.9152222275733948 - Loss_val = 0.31332801561511364\n",
            "[INFO]: Época 71 ---> Acc_train = 0.9189030528068542 - Loss_train = 0.30046278718749914 - Acc_val = 0.9146666526794434 - Loss_val = 0.3129219811781782\n",
            "[INFO]: Época 72 ---> Acc_train = 0.9191837310791016 - Loss_train = 0.3000717707750317 - Acc_val = 0.9144444465637207 - Loss_val = 0.312571358900199\n",
            "[INFO]: Época 73 ---> Acc_train = 0.9191925525665283 - Loss_train = 0.2997638152680021 - Acc_val = 0.9150000214576721 - Loss_val = 0.31220047748364727\n",
            "[INFO]: Época 74 ---> Acc_train = 0.9192823767662048 - Loss_train = 0.2991927176561092 - Acc_val = 0.9151111245155334 - Loss_val = 0.31182197724165467\n",
            "[INFO]: Época 75 ---> Acc_train = 0.9195850491523743 - Loss_train = 0.298809747272547 - Acc_val = 0.9152222275733948 - Loss_val = 0.31147027250939135\n",
            "[INFO]: Época 76 ---> Acc_train = 0.9196438193321228 - Loss_train = 0.2984110887614863 - Acc_val = 0.9151111245155334 - Loss_val = 0.3111427099624043\n",
            "[INFO]: Época 77 ---> Acc_train = 0.9196352958679199 - Loss_train = 0.29780853481890984 - Acc_val = 0.9151111245155334 - Loss_val = 0.3108148478002122\n",
            "[INFO]: Época 78 ---> Acc_train = 0.9199550747871399 - Loss_train = 0.29727288635697097 - Acc_val = 0.9151111245155334 - Loss_val = 0.31053021512882856\n",
            "[INFO]: Época 79 ---> Acc_train = 0.9199129939079285 - Loss_train = 0.2971164573330134 - Acc_val = 0.9152222275733948 - Loss_val = 0.31014214960739034\n",
            "[INFO]: Época 80 ---> Acc_train = 0.9200474619865417 - Loss_train = 0.29650875487852835 - Acc_val = 0.9153333306312561 - Loss_val = 0.3098672866576491\n",
            "[INFO]: Época 81 ---> Acc_train = 0.9199972748756409 - Loss_train = 0.2961221483582409 - Acc_val = 0.9154444336891174 - Loss_val = 0.30961980016825924\n",
            "[INFO]: Época 82 ---> Acc_train = 0.9203951954841614 - Loss_train = 0.29586182403593986 - Acc_val = 0.9155555367469788 - Loss_val = 0.30932148100828577\n",
            "[INFO]: Época 83 ---> Acc_train = 0.9201404452323914 - Loss_train = 0.29543532210745627 - Acc_val = 0.9152222275733948 - Loss_val = 0.30894338158571233\n",
            "[INFO]: Época 84 ---> Acc_train = 0.9206871390342712 - Loss_train = 0.2946922510029656 - Acc_val = 0.9155555367469788 - Loss_val = 0.30869997298853286\n",
            "[INFO]: Época 85 ---> Acc_train = 0.9206895232200623 - Loss_train = 0.29452866484631934 - Acc_val = 0.9157778024673462 - Loss_val = 0.3083699319322276\n",
            "[INFO]: Época 86 ---> Acc_train = 0.9205613136291504 - Loss_train = 0.2943277099264567 - Acc_val = 0.9157778024673462 - Loss_val = 0.3081252661835039\n",
            "[INFO]: Época 87 ---> Acc_train = 0.9207096099853516 - Loss_train = 0.29382445648260586 - Acc_val = 0.9161111116409302 - Loss_val = 0.3077828168023336\n",
            "[INFO]: Época 88 ---> Acc_train = 0.9208385348320007 - Loss_train = 0.2932556060476527 - Acc_val = 0.9161111116409302 - Loss_val = 0.30753328779811645\n",
            "[INFO]: Época 89 ---> Acc_train = 0.9208271503448486 - Loss_train = 0.2931070476224617 - Acc_val = 0.9166666865348816 - Loss_val = 0.30720933623706004\n",
            "[INFO]: Época 90 ---> Acc_train = 0.9209530353546143 - Loss_train = 0.29288160577161637 - Acc_val = 0.9163333177566528 - Loss_val = 0.306926555643397\n",
            "[INFO]: Época 91 ---> Acc_train = 0.9211664199829102 - Loss_train = 0.2925409549313571 - Acc_val = 0.9167777895927429 - Loss_val = 0.30673552243519714\n",
            "[INFO]: Época 92 ---> Acc_train = 0.9213488698005676 - Loss_train = 0.2920914487443282 - Acc_val = 0.9166666865348816 - Loss_val = 0.30646915094806093\n",
            "[INFO]: Época 93 ---> Acc_train = 0.9213376641273499 - Loss_train = 0.29181517875231777 - Acc_val = 0.9165555834770203 - Loss_val = 0.3062256249553978\n",
            "[INFO]: Época 94 ---> Acc_train = 0.9215702414512634 - Loss_train = 0.29113897952102896 - Acc_val = 0.9166666865348816 - Loss_val = 0.3059906088309965\n",
            "[INFO]: Época 95 ---> Acc_train = 0.9215453863143921 - Loss_train = 0.2908697586171887 - Acc_val = 0.9166666865348816 - Loss_val = 0.3058030157419226\n",
            "[INFO]: Época 96 ---> Acc_train = 0.9214801788330078 - Loss_train = 0.29066728867369546 - Acc_val = 0.9163333177566528 - Loss_val = 0.30553470925646387\n",
            "[INFO]: Época 97 ---> Acc_train = 0.9219966530799866 - Loss_train = 0.290263685945089 - Acc_val = 0.9172222018241882 - Loss_val = 0.3052624241407914\n",
            "[INFO]: Época 98 ---> Acc_train = 0.9215757846832275 - Loss_train = 0.2901756162050415 - Acc_val = 0.9169999957084656 - Loss_val = 0.30504901354038916\n",
            "[INFO]: Época 99 ---> Acc_train = 0.9214807748794556 - Loss_train = 0.28971409693561195 - Acc_val = 0.9169999957084656 - Loss_val = 0.30482535999865995\n",
            "Entrenamiento finalizado!!\n",
            "Accuracy en test: 0.9213\n"
          ]
        },
        {
          "output_type": "execute_result",
          "data": {
            "text/plain": [
              "Text(0, 0.5, 'Loss')"
            ]
          },
          "metadata": {},
          "execution_count": 9
        },
        {
          "output_type": "display_data",
          "data": {
            "text/plain": [
              "<Figure size 432x288 with 1 Axes>"
            ],
            "image/png": "[encoded data removed]"
          },
          "metadata": {
            "needs_background": "light"
          }
        }
      ]
    }
  ]
}